{
  "nbformat": 4,
  "nbformat_minor": 0,
  "metadata": {
    "kernelspec": {
      "display_name": "Python 3",
      "language": "python",
      "name": "python3"
    },
    "language_info": {
      "codemirror_mode": {
        "name": "ipython",
        "version": 3
      },
      "file_extension": ".py",
      "mimetype": "text/x-python",
      "name": "python",
      "nbconvert_exporter": "python",
      "pygments_lexer": "ipython3",
      "version": "3.7.3"
    },
    "colab": {
      "name": "Deep Learning for Tabular Data using PyTorch.ipynb",
      "provenance": [],
      "include_colab_link": true
    }
  },
  "cells": [
    {
      "cell_type": "markdown",
      "metadata": {
        "id": "view-in-github",
        "colab_type": "text"
      },
      "source": [
        "<a href=\"https://colab.research.google.com/github/nolll77/Tabular-Data/blob/master/Deep_Learning_for_Tabular_Data_using_PyTorch.ipynb\" target=\"_parent\"><img src=\"https://colab.research.google.com/assets/colab-badge.svg\" alt=\"Open In Colab\"/></a>"
      ]
    },
    {
      "cell_type": "markdown",
      "metadata": {
        "id": "RWmtXeFqLmXj",
        "colab_type": "text"
      },
      "source": [
        "# **Deep Learning for tabular data using Pytorch**\n",
        "\n",
        "![On a multiclass classification problem](https://drive.google.com/uc?id=1jyQqIZ3DZDizA25fySnsq3SlerlMQ7HG)\n",
        "\n",
        "Deep learning has proved to be groundbreaking in a lot of domains like Computer Vision, Natural Language Processing, Signal Processing, etc. However, when it comes to more structured, tabular data consisting of categorical or numerical variables, traditional machine learning approaches (such as Random Forests, XGBoost) are believed to perform better. As expected, Neural nets have caught up and in many instances shown to be performing equally well or even better at times.\n",
        "\n",
        "The easiest way to perform deep learning with tabular data is through the fast-ai library and it gives really good results, but it might be a little too abstracted for someone who’s trying to understand what is really going on behind the scenes. Hence, in this article, I’ve covered how to build a simple deep learning model to deal with tabular data in Pytorch on a multiclass classification problem.\n",
        "\n",
        "**A little background on Pytorch**\n",
        "\n",
        "Pytorch is a popular open-source machine library. It is as simple to use and learn as Python. A few other advantages of using PyTorch are its multi-GPU support and custom data loaders. If you’re unfamiliar with the basics or need a revision, here’s a good place to start:\n",
        "\n"
      ]
    },
    {
      "cell_type": "markdown",
      "metadata": {
        "id": "vOPxxA7oLmXl",
        "colab_type": "text"
      },
      "source": [
        "<b>Dataset</b> - https://www.kaggle.com/c/shelter-animal-outcomes - It’s a tabular dataset consisting of about 26k rows and 10 columns in the training set. All columns except DateTime are categorical.\n",
        "\n",
        "<b>Problem Statement</b> : Given certain features about a shelter animal (like age, sex, color, breed), predict its outcome.\n",
        "\n",
        "There are 5 possible outcomes : Return_to_owner, Euthanasia, Adoption, Transfer, Died. We are expected to find the probability of an animal's outcome belonging to each of the 5 categories."
      ]
    },
    {
      "cell_type": "markdown",
      "metadata": {
        "id": "uI7ynGmrLmXm",
        "colab_type": "text"
      },
      "source": [
        "## Library imports"
      ]
    },
    {
      "cell_type": "code",
      "metadata": {
        "id": "9z7FBx28LmXn",
        "colab_type": "code",
        "colab": {}
      },
      "source": [
        "import pandas as pd\n",
        "import numpy as np\n",
        "from collections import Counter\n",
        "from sklearn.model_selection import train_test_split\n",
        "from sklearn.preprocessing import LabelEncoder\n",
        "import torch\n",
        "from torch.utils.data import Dataset, DataLoader\n",
        "import torch.optim as torch_optim\n",
        "import torch.nn as nn\n",
        "import torch.nn.functional as F\n",
        "from torchvision import models\n",
        "from datetime import datetime"
      ],
      "execution_count": null,
      "outputs": []
    },
    {
      "cell_type": "markdown",
      "metadata": {
        "id": "hI45j0XXLmXu",
        "colab_type": "text"
      },
      "source": [
        "## **Data Preprocessing**\n",
        "\n",
        "Although this step depends largely on the particular data and problem, there are two necessary steps that need to be followed:\n",
        "\n",
        "Getting rid of Nan values:\n",
        "Nan (not a number) indicates a missing value in the dataset. The model doesn’t accept Nan values, hence they must be either deleted or replaced.\n",
        "\n",
        "For numerical columns, a popular way of dealing with these values is to impute them with 0, mean, median, mode or some other function of the remaining data. Missing values might sometimes indicate an underlying feature in your dataset, so people often create a new binary column corresponding to the column with missing values to record whether the data was missing or not.\n",
        "\n",
        "For categorical columns, Nan values can be considered as their own category!\n",
        "\n",
        "Label encoding all categorical columns:\n",
        "Since our model can only take numerical inputs, we convert all our categorical elements to numbers. This means instead of using strings to represent categories, we use numbers. The numbers chosen to represent the categories should be in the range of 0 to the total number of different categories (including Nan ) in the column. This is so that when we create categorical embeddings for the column, we want to be able to index into our embedding matrix which would have one entry for each category. Here’s a simple example of label encoding :\n",
        "\n",
        "![Label Encoder](https://drive.google.com/uc?id=1cZUIspp02WSh4s9gc6pSKA02pCaanA7i)\n",
        "\n",
        "\n",
        "I’ve used the LabelEncoder class from the scikit-learn library to encode the categorical columns. You could define a custom class to do this and keep track of the category labels because you’d need them to encode test data too.\n",
        "\n",
        "Label encoding the target:\n",
        "We also need to label encode the target if it has string entries. Also, make sure you maintain a dictionary mapping the encodings to original values because you’ll need it to figure out the final output of your model.\n",
        "\n",
        "Data Processing particular to the Shelter Outcome problem:\n",
        "Along with the above-mentioned steps, I did a little more processing for the example problem.\n",
        "\n",
        "Removed the AnimalID column because it’s unique and won’t help in training.\n",
        "Removed the OutcomeSubtype column because it’s a part of the target but we’re not asked to predict it.\n",
        "Removed DateTime column because exact Timestamp of when the record was entered didn’t seem like an important feature. In fact, I first tried to split it out into separate month and year columns but later realized that removing the column altogether gave me a better result!\n",
        "Removed Name column because it had too many Nan values (more than 10k missing). Also, it did not seem like a very important feature in determining an animal’s outcome.\n",
        "Note: In my notebook, I stacked the train and test columns and then did the preprocessing to avoid having to do label encoding based on the train set labels on the test set (because it would involve maintaining a dictionary of encoded labels to actual values). It was okay to do the stacking and processing here because there are no numerical columns (hence no imputing done) and the number of categories per column was fixed. In practice, we must never do this because it may leak some data from the test/validation sets to the training data and lead to an inaccurate evaluation of the model. For example, if you had missing values in a numerical column like age and decided to impute it with the average value, the average value should be calculated only on the train set (not stacked train-test-valid set) and this value should be used to impute missing values in validation and test sets too.\n",
        "\n",
        "**Categorical Embeddings**\n",
        "\n",
        "[Categorical embeddings](https://drive.google.com/file/d/1BWt5aW9l5Ha-rR8YvUksHhe46ynOMVe3/view?usp=sharing) are very similar to word embeddings which are commonly used in NLP. The basic idea is to have a fixed-length vector representation of each category in the column. How this is different from a one-hot encoding is that instead of having a sparse matrix, using embeddings, we get a dense matrix for each category with similar categories having values close to each other in the embedding space. Hence, this process not only saves up memory (as the one-hot encoding for columns having too many categories can really blow up the input matrix, also it is a very sparse matrix) but also reveals intrinsic properties of the categorical variables.\n",
        "\n",
        "For example, if we had a column of colors and we find embeddings for it, we can expect red and pink to be closer in the embedding space than red and blue\n",
        "\n",
        "Categorical embedding layers are equivalent to extra layers on top of each one-hot encoded input :\n",
        "\n",
        "![Texte alternatif…](https://drive.google.com/uc?id=1iQpcTOm7qYSSYgUdBY2TOh63wKoZdDhE)\n",
        "\n",
        "For our shelter outcome problem, we have only categorical columns but I’ll be considering columns with less than 3 values as continuous. To decide the length of each column’s embedding vector I’ve taken a simple function from the fast-ai library:\n",
        "\n",
        "**Pytorch Dataset and DataLoader**\n",
        "\n",
        "We extend the [Dataset](https://pytorch.org/docs/stable/_modules/torch/utils/data/dataset.html#TensorDataset) (abstract) class provided by Pytorch for easier access to our dataset while training and for effectively using the DataLoader module to manage batches. This involves overwriting the __len__ and __getitem__ methods as per our particular dataset.\n",
        "\n",
        "Since we only need to embed categorical columns, we split our input into two parts: numerical and categorical.\n",
        "\n",
        "We then choose our batch size and feed it along with the dataset to the DataLoader. Deep learning is generally done in batches. DataLoader helps us in effectively managing these batches and shuffling the data before training.\n",
        "\n",
        "To do a sanity check, you can iterate through the created DataLoaders to look at each batch :\n",
        "\n",
        "![Texte alternatif…](https://drive.google.com/uc?id=11HvL2OwpBW90myt-QQ55TIXvXycdSZHH)\n",
        "\n",
        "**Model**\n",
        "Our data is split into continuous and categorical parts. We first convert the categorical parts into embedding vectors based on the previously determined sizes and concatenate them with the continuous parts to feed to the rest of the network. This picture demonstrates the model I’ve used :\n",
        "\n",
        "![Texte alternatif…](https://drive.google.com/uc?id=1Nnb1GZP6c9uOCUOu6NsBGGZ667C702mH)\n",
        "\n",
        "Training\n",
        "Now we train the model on the training set. I’ve used the Adam optimizer to optimize the cross-entropy loss. The training is pretty straightforward: iterate through each batch, do a forward pass, compute gradients, do a gradient descent and repeat this process for as many epochs as needed.\n",
        "\n",
        "**Test Output**\n",
        "Since we’re interested in finding the probabilities for each class for our test inputs, we apply a Softmax function over our model output. I also made a Kaggle submission to see how well this model performs :\n",
        "\n",
        "![Texte alternatif…](https://drive.google.com/uc?id=1cxxhEZARnsbKWIJoYiKwfjeJ-9W3va3M)\n",
        "\n",
        "We’ve done very less feature engineering and data exploration and used a very basic deep learning architecture, yet our model has done better than about 50% of the solutions. This shows that this approach of modeling tabular data using neural networks is pretty powerful!"
      ]
    },
    {
      "cell_type": "markdown",
      "metadata": {
        "id": "BhURq3rCLmXv",
        "colab_type": "text"
      },
      "source": [
        "#### Training set "
      ]
    },
    {
      "cell_type": "code",
      "metadata": {
        "id": "v7F_j-Uvl5FI",
        "colab_type": "code",
        "colab": {
          "base_uri": "https://localhost:8080/",
          "height": 128
        },
        "outputId": "4b861d2e-c868-4b34-890d-9a1391d923f7"
      },
      "source": [
        "# Auth from my Google Drive\n",
        "from google.colab import drive\n",
        "drive.mount('/content/drive')"
      ],
      "execution_count": null,
      "outputs": [
        {
          "output_type": "stream",
          "text": [
            "Go to this URL in a browser: https://accounts.google.com/o/oauth2/auth?client_id=947318989803-6bn6qk8qdgf4n4g3pfee6491hc0brc4i.apps.googleusercontent.com&redirect_uri=urn%3aietf%3awg%3aoauth%3a2.0%3aoob&response_type=code&scope=email%20https%3a%2f%2fwww.googleapis.com%2fauth%2fdocs.test%20https%3a%2f%2fwww.googleapis.com%2fauth%2fdrive%20https%3a%2f%2fwww.googleapis.com%2fauth%2fdrive.photos.readonly%20https%3a%2f%2fwww.googleapis.com%2fauth%2fpeopleapi.readonly\n",
            "\n",
            "Enter your authorization code:\n",
            "··········\n",
            "Mounted at /content/drive\n"
          ],
          "name": "stdout"
        }
      ]
    },
    {
      "cell_type": "code",
      "metadata": {
        "id": "Hn-W_-syLmXw",
        "colab_type": "code",
        "colab": {
          "base_uri": "https://localhost:8080/",
          "height": 223
        },
        "outputId": "0a033a53-a4f6-4fcc-dcb1-8cdd8ed7eb02"
      },
      "source": [
        "path = \"/content/drive/My Drive/Dataset/Jovian/Tabular Data/train.csv\"\n",
        "train = pd.read_csv(path)\n",
        "print(\"Shape:\", train.shape)\n",
        "train.head()"
      ],
      "execution_count": null,
      "outputs": [
        {
          "output_type": "stream",
          "text": [
            "Shape: (26729, 10)\n"
          ],
          "name": "stdout"
        },
        {
          "output_type": "execute_result",
          "data": {
            "text/html": [
              "<div>\n",
              "<style scoped>\n",
              "    .dataframe tbody tr th:only-of-type {\n",
              "        vertical-align: middle;\n",
              "    }\n",
              "\n",
              "    .dataframe tbody tr th {\n",
              "        vertical-align: top;\n",
              "    }\n",
              "\n",
              "    .dataframe thead th {\n",
              "        text-align: right;\n",
              "    }\n",
              "</style>\n",
              "<table border=\"1\" class=\"dataframe\">\n",
              "  <thead>\n",
              "    <tr style=\"text-align: right;\">\n",
              "      <th></th>\n",
              "      <th>AnimalID</th>\n",
              "      <th>Name</th>\n",
              "      <th>DateTime</th>\n",
              "      <th>OutcomeType</th>\n",
              "      <th>OutcomeSubtype</th>\n",
              "      <th>AnimalType</th>\n",
              "      <th>SexuponOutcome</th>\n",
              "      <th>AgeuponOutcome</th>\n",
              "      <th>Breed</th>\n",
              "      <th>Color</th>\n",
              "    </tr>\n",
              "  </thead>\n",
              "  <tbody>\n",
              "    <tr>\n",
              "      <th>0</th>\n",
              "      <td>A671945</td>\n",
              "      <td>Hambone</td>\n",
              "      <td>2014-02-12 18:22:00</td>\n",
              "      <td>Return_to_owner</td>\n",
              "      <td>NaN</td>\n",
              "      <td>Dog</td>\n",
              "      <td>Neutered Male</td>\n",
              "      <td>1 year</td>\n",
              "      <td>Shetland Sheepdog Mix</td>\n",
              "      <td>Brown/White</td>\n",
              "    </tr>\n",
              "    <tr>\n",
              "      <th>1</th>\n",
              "      <td>A656520</td>\n",
              "      <td>Emily</td>\n",
              "      <td>2013-10-13 12:44:00</td>\n",
              "      <td>Euthanasia</td>\n",
              "      <td>Suffering</td>\n",
              "      <td>Cat</td>\n",
              "      <td>Spayed Female</td>\n",
              "      <td>1 year</td>\n",
              "      <td>Domestic Shorthair Mix</td>\n",
              "      <td>Cream Tabby</td>\n",
              "    </tr>\n",
              "    <tr>\n",
              "      <th>2</th>\n",
              "      <td>A686464</td>\n",
              "      <td>Pearce</td>\n",
              "      <td>2015-01-31 12:28:00</td>\n",
              "      <td>Adoption</td>\n",
              "      <td>Foster</td>\n",
              "      <td>Dog</td>\n",
              "      <td>Neutered Male</td>\n",
              "      <td>2 years</td>\n",
              "      <td>Pit Bull Mix</td>\n",
              "      <td>Blue/White</td>\n",
              "    </tr>\n",
              "    <tr>\n",
              "      <th>3</th>\n",
              "      <td>A683430</td>\n",
              "      <td>NaN</td>\n",
              "      <td>2014-07-11 19:09:00</td>\n",
              "      <td>Transfer</td>\n",
              "      <td>Partner</td>\n",
              "      <td>Cat</td>\n",
              "      <td>Intact Male</td>\n",
              "      <td>3 weeks</td>\n",
              "      <td>Domestic Shorthair Mix</td>\n",
              "      <td>Blue Cream</td>\n",
              "    </tr>\n",
              "    <tr>\n",
              "      <th>4</th>\n",
              "      <td>A667013</td>\n",
              "      <td>NaN</td>\n",
              "      <td>2013-11-15 12:52:00</td>\n",
              "      <td>Transfer</td>\n",
              "      <td>Partner</td>\n",
              "      <td>Dog</td>\n",
              "      <td>Neutered Male</td>\n",
              "      <td>2 years</td>\n",
              "      <td>Lhasa Apso/Miniature Poodle</td>\n",
              "      <td>Tan</td>\n",
              "    </tr>\n",
              "  </tbody>\n",
              "</table>\n",
              "</div>"
            ],
            "text/plain": [
              "  AnimalID     Name  ...                        Breed        Color\n",
              "0  A671945  Hambone  ...        Shetland Sheepdog Mix  Brown/White\n",
              "1  A656520    Emily  ...       Domestic Shorthair Mix  Cream Tabby\n",
              "2  A686464   Pearce  ...                 Pit Bull Mix   Blue/White\n",
              "3  A683430      NaN  ...       Domestic Shorthair Mix   Blue Cream\n",
              "4  A667013      NaN  ...  Lhasa Apso/Miniature Poodle          Tan\n",
              "\n",
              "[5 rows x 10 columns]"
            ]
          },
          "metadata": {
            "tags": []
          },
          "execution_count": 9
        }
      ]
    },
    {
      "cell_type": "markdown",
      "metadata": {
        "id": "HgdSloTHLmX3",
        "colab_type": "text"
      },
      "source": [
        "#### Test set"
      ]
    },
    {
      "cell_type": "code",
      "metadata": {
        "id": "qYNo2pk2LmX4",
        "colab_type": "code",
        "colab": {
          "base_uri": "https://localhost:8080/",
          "height": 223
        },
        "outputId": "a30fe0c3-5b2d-4a76-d52f-ed894d66bd39"
      },
      "source": [
        "test = pd.read_csv('/content/drive/My Drive/Dataset/Jovian/Tabular Data/test.csv')\n",
        "print(\"Shape:\", test.shape)\n",
        "test.head()"
      ],
      "execution_count": null,
      "outputs": [
        {
          "output_type": "stream",
          "text": [
            "Shape: (11456, 8)\n"
          ],
          "name": "stdout"
        },
        {
          "output_type": "execute_result",
          "data": {
            "text/html": [
              "<div>\n",
              "<style scoped>\n",
              "    .dataframe tbody tr th:only-of-type {\n",
              "        vertical-align: middle;\n",
              "    }\n",
              "\n",
              "    .dataframe tbody tr th {\n",
              "        vertical-align: top;\n",
              "    }\n",
              "\n",
              "    .dataframe thead th {\n",
              "        text-align: right;\n",
              "    }\n",
              "</style>\n",
              "<table border=\"1\" class=\"dataframe\">\n",
              "  <thead>\n",
              "    <tr style=\"text-align: right;\">\n",
              "      <th></th>\n",
              "      <th>ID</th>\n",
              "      <th>Name</th>\n",
              "      <th>DateTime</th>\n",
              "      <th>AnimalType</th>\n",
              "      <th>SexuponOutcome</th>\n",
              "      <th>AgeuponOutcome</th>\n",
              "      <th>Breed</th>\n",
              "      <th>Color</th>\n",
              "    </tr>\n",
              "  </thead>\n",
              "  <tbody>\n",
              "    <tr>\n",
              "      <th>0</th>\n",
              "      <td>1</td>\n",
              "      <td>Summer</td>\n",
              "      <td>2015-10-12 12:15:00</td>\n",
              "      <td>Dog</td>\n",
              "      <td>Intact Female</td>\n",
              "      <td>10 months</td>\n",
              "      <td>Labrador Retriever Mix</td>\n",
              "      <td>Red/White</td>\n",
              "    </tr>\n",
              "    <tr>\n",
              "      <th>1</th>\n",
              "      <td>2</td>\n",
              "      <td>Cheyenne</td>\n",
              "      <td>2014-07-26 17:59:00</td>\n",
              "      <td>Dog</td>\n",
              "      <td>Spayed Female</td>\n",
              "      <td>2 years</td>\n",
              "      <td>German Shepherd/Siberian Husky</td>\n",
              "      <td>Black/Tan</td>\n",
              "    </tr>\n",
              "    <tr>\n",
              "      <th>2</th>\n",
              "      <td>3</td>\n",
              "      <td>Gus</td>\n",
              "      <td>2016-01-13 12:20:00</td>\n",
              "      <td>Cat</td>\n",
              "      <td>Neutered Male</td>\n",
              "      <td>1 year</td>\n",
              "      <td>Domestic Shorthair Mix</td>\n",
              "      <td>Brown Tabby</td>\n",
              "    </tr>\n",
              "    <tr>\n",
              "      <th>3</th>\n",
              "      <td>4</td>\n",
              "      <td>Pongo</td>\n",
              "      <td>2013-12-28 18:12:00</td>\n",
              "      <td>Dog</td>\n",
              "      <td>Intact Male</td>\n",
              "      <td>4 months</td>\n",
              "      <td>Collie Smooth Mix</td>\n",
              "      <td>Tricolor</td>\n",
              "    </tr>\n",
              "    <tr>\n",
              "      <th>4</th>\n",
              "      <td>5</td>\n",
              "      <td>Skooter</td>\n",
              "      <td>2015-09-24 17:59:00</td>\n",
              "      <td>Dog</td>\n",
              "      <td>Neutered Male</td>\n",
              "      <td>2 years</td>\n",
              "      <td>Miniature Poodle Mix</td>\n",
              "      <td>White</td>\n",
              "    </tr>\n",
              "  </tbody>\n",
              "</table>\n",
              "</div>"
            ],
            "text/plain": [
              "   ID      Name  ...                           Breed        Color\n",
              "0   1    Summer  ...          Labrador Retriever Mix    Red/White\n",
              "1   2  Cheyenne  ...  German Shepherd/Siberian Husky    Black/Tan\n",
              "2   3       Gus  ...          Domestic Shorthair Mix  Brown Tabby\n",
              "3   4     Pongo  ...               Collie Smooth Mix     Tricolor\n",
              "4   5   Skooter  ...            Miniature Poodle Mix        White\n",
              "\n",
              "[5 rows x 8 columns]"
            ]
          },
          "metadata": {
            "tags": []
          },
          "execution_count": 10
        }
      ]
    },
    {
      "cell_type": "markdown",
      "metadata": {
        "id": "xFzu0S_1LmX9",
        "colab_type": "text"
      },
      "source": [
        "#### Sample submission file\n",
        "\n",
        "For each row, each outcome's probability needs to be filled into the columns"
      ]
    },
    {
      "cell_type": "code",
      "metadata": {
        "id": "1uBfkgKBLmX-",
        "colab_type": "code",
        "colab": {
          "base_uri": "https://localhost:8080/",
          "height": 205
        },
        "outputId": "d1a36531-a4ef-40ab-af8a-e22f19faed68"
      },
      "source": [
        "sample = pd.read_csv('/content/drive/My Drive/Dataset/Jovian/Tabular Data/sample_submission.csv')\n",
        "sample.head()"
      ],
      "execution_count": null,
      "outputs": [
        {
          "output_type": "execute_result",
          "data": {
            "text/html": [
              "<div>\n",
              "<style scoped>\n",
              "    .dataframe tbody tr th:only-of-type {\n",
              "        vertical-align: middle;\n",
              "    }\n",
              "\n",
              "    .dataframe tbody tr th {\n",
              "        vertical-align: top;\n",
              "    }\n",
              "\n",
              "    .dataframe thead th {\n",
              "        text-align: right;\n",
              "    }\n",
              "</style>\n",
              "<table border=\"1\" class=\"dataframe\">\n",
              "  <thead>\n",
              "    <tr style=\"text-align: right;\">\n",
              "      <th></th>\n",
              "      <th>ID</th>\n",
              "      <th>Adoption</th>\n",
              "      <th>Died</th>\n",
              "      <th>Euthanasia</th>\n",
              "      <th>Return_to_owner</th>\n",
              "      <th>Transfer</th>\n",
              "    </tr>\n",
              "  </thead>\n",
              "  <tbody>\n",
              "    <tr>\n",
              "      <th>0</th>\n",
              "      <td>1</td>\n",
              "      <td>1</td>\n",
              "      <td>0</td>\n",
              "      <td>0</td>\n",
              "      <td>0</td>\n",
              "      <td>0</td>\n",
              "    </tr>\n",
              "    <tr>\n",
              "      <th>1</th>\n",
              "      <td>2</td>\n",
              "      <td>1</td>\n",
              "      <td>0</td>\n",
              "      <td>0</td>\n",
              "      <td>0</td>\n",
              "      <td>0</td>\n",
              "    </tr>\n",
              "    <tr>\n",
              "      <th>2</th>\n",
              "      <td>3</td>\n",
              "      <td>1</td>\n",
              "      <td>0</td>\n",
              "      <td>0</td>\n",
              "      <td>0</td>\n",
              "      <td>0</td>\n",
              "    </tr>\n",
              "    <tr>\n",
              "      <th>3</th>\n",
              "      <td>4</td>\n",
              "      <td>1</td>\n",
              "      <td>0</td>\n",
              "      <td>0</td>\n",
              "      <td>0</td>\n",
              "      <td>0</td>\n",
              "    </tr>\n",
              "    <tr>\n",
              "      <th>4</th>\n",
              "      <td>5</td>\n",
              "      <td>1</td>\n",
              "      <td>0</td>\n",
              "      <td>0</td>\n",
              "      <td>0</td>\n",
              "      <td>0</td>\n",
              "    </tr>\n",
              "  </tbody>\n",
              "</table>\n",
              "</div>"
            ],
            "text/plain": [
              "   ID  Adoption  Died  Euthanasia  Return_to_owner  Transfer\n",
              "0   1         1     0           0                0         0\n",
              "1   2         1     0           0                0         0\n",
              "2   3         1     0           0                0         0\n",
              "3   4         1     0           0                0         0\n",
              "4   5         1     0           0                0         0"
            ]
          },
          "metadata": {
            "tags": []
          },
          "execution_count": 11
        }
      ]
    },
    {
      "cell_type": "markdown",
      "metadata": {
        "id": "qK9-g_BWLmYD",
        "colab_type": "text"
      },
      "source": [
        "## Very basic data exploration"
      ]
    },
    {
      "cell_type": "markdown",
      "metadata": {
        "id": "tFkqDM1WLmYE",
        "colab_type": "text"
      },
      "source": [
        "#### How balanced is the dataset?\n",
        "\n",
        "Adoption and Transfer seem to occur a lot more than the rest"
      ]
    },
    {
      "cell_type": "code",
      "metadata": {
        "id": "qDCh1OfJLmYF",
        "colab_type": "code",
        "colab": {
          "base_uri": "https://localhost:8080/",
          "height": 108
        },
        "outputId": "127f3234-b941-4970-9f23-23b271b5c65d"
      },
      "source": [
        "Counter(train['OutcomeType'])"
      ],
      "execution_count": null,
      "outputs": [
        {
          "output_type": "execute_result",
          "data": {
            "text/plain": [
              "Counter({'Adoption': 10769,\n",
              "         'Died': 197,\n",
              "         'Euthanasia': 1555,\n",
              "         'Return_to_owner': 4786,\n",
              "         'Transfer': 9422})"
            ]
          },
          "metadata": {
            "tags": []
          },
          "execution_count": 12
        }
      ]
    },
    {
      "cell_type": "markdown",
      "metadata": {
        "id": "SLizo-kJLmYK",
        "colab_type": "text"
      },
      "source": [
        "#### What are the most common names and how many times do they occur? \n",
        "\n",
        "There seem to be too many Nan values. Name might not be a very important factor too"
      ]
    },
    {
      "cell_type": "code",
      "metadata": {
        "id": "5yoUZWK9LmYL",
        "colab_type": "code",
        "colab": {
          "base_uri": "https://localhost:8080/",
          "height": 35
        },
        "outputId": "e5c53c5f-d2a0-4fdf-b273-8fba880b15c4"
      },
      "source": [
        "Counter(train['Name']).most_common(5)"
      ],
      "execution_count": null,
      "outputs": [
        {
          "output_type": "execute_result",
          "data": {
            "text/plain": [
              "[(nan, 7691), ('Max', 136), ('Bella', 135), ('Charlie', 107), ('Daisy', 106)]"
            ]
          },
          "metadata": {
            "tags": []
          },
          "execution_count": 13
        }
      ]
    },
    {
      "cell_type": "markdown",
      "metadata": {
        "id": "a7zEeZ68LmYS",
        "colab_type": "text"
      },
      "source": [
        "## Data preprocessing\n",
        "\n",
        "OutcomeSubtype column seems to be of no use, so we drop it. Also, since animal ID is unique, it doesn't help in training"
      ]
    },
    {
      "cell_type": "code",
      "metadata": {
        "id": "viYcAfJwLmYT",
        "colab_type": "code",
        "colab": {}
      },
      "source": [
        "train_X = train.drop(columns= ['OutcomeType', 'OutcomeSubtype', 'AnimalID'])\n",
        "Y = train['OutcomeType']\n",
        "test_X = test"
      ],
      "execution_count": null,
      "outputs": []
    },
    {
      "cell_type": "markdown",
      "metadata": {
        "id": "Go47lGFfLmYX",
        "colab_type": "text"
      },
      "source": [
        "#### Stacking train and test set so that they undergo the same preprocessing "
      ]
    },
    {
      "cell_type": "code",
      "metadata": {
        "id": "rm-J-xfgLmYX",
        "colab_type": "code",
        "colab": {}
      },
      "source": [
        "stacked_df = train_X.append(test_X.drop(columns=['ID']))"
      ],
      "execution_count": null,
      "outputs": []
    },
    {
      "cell_type": "markdown",
      "metadata": {
        "id": "Ltix47LBLmYc",
        "colab_type": "text"
      },
      "source": [
        "#### splitting datetime into month and year"
      ]
    },
    {
      "cell_type": "code",
      "metadata": {
        "id": "-tPjeuecLmYd",
        "colab_type": "code",
        "colab": {
          "base_uri": "https://localhost:8080/",
          "height": 205
        },
        "outputId": "68a0fdce-5999-4cf7-b37b-5b791f418925"
      },
      "source": [
        "# stacked_df['DateTime'] = pd.to_datetime(stacked_df['DateTime'])\n",
        "# stacked_df['year'] = stacked_df['DateTime'].dt.year\n",
        "# stacked_df['month'] = stacked_df['DateTime'].dt.month\n",
        "stacked_df = stacked_df.drop(columns=['DateTime'])\n",
        "stacked_df.head()"
      ],
      "execution_count": null,
      "outputs": [
        {
          "output_type": "execute_result",
          "data": {
            "text/html": [
              "<div>\n",
              "<style scoped>\n",
              "    .dataframe tbody tr th:only-of-type {\n",
              "        vertical-align: middle;\n",
              "    }\n",
              "\n",
              "    .dataframe tbody tr th {\n",
              "        vertical-align: top;\n",
              "    }\n",
              "\n",
              "    .dataframe thead th {\n",
              "        text-align: right;\n",
              "    }\n",
              "</style>\n",
              "<table border=\"1\" class=\"dataframe\">\n",
              "  <thead>\n",
              "    <tr style=\"text-align: right;\">\n",
              "      <th></th>\n",
              "      <th>Name</th>\n",
              "      <th>AnimalType</th>\n",
              "      <th>SexuponOutcome</th>\n",
              "      <th>AgeuponOutcome</th>\n",
              "      <th>Breed</th>\n",
              "      <th>Color</th>\n",
              "    </tr>\n",
              "  </thead>\n",
              "  <tbody>\n",
              "    <tr>\n",
              "      <th>0</th>\n",
              "      <td>Hambone</td>\n",
              "      <td>Dog</td>\n",
              "      <td>Neutered Male</td>\n",
              "      <td>1 year</td>\n",
              "      <td>Shetland Sheepdog Mix</td>\n",
              "      <td>Brown/White</td>\n",
              "    </tr>\n",
              "    <tr>\n",
              "      <th>1</th>\n",
              "      <td>Emily</td>\n",
              "      <td>Cat</td>\n",
              "      <td>Spayed Female</td>\n",
              "      <td>1 year</td>\n",
              "      <td>Domestic Shorthair Mix</td>\n",
              "      <td>Cream Tabby</td>\n",
              "    </tr>\n",
              "    <tr>\n",
              "      <th>2</th>\n",
              "      <td>Pearce</td>\n",
              "      <td>Dog</td>\n",
              "      <td>Neutered Male</td>\n",
              "      <td>2 years</td>\n",
              "      <td>Pit Bull Mix</td>\n",
              "      <td>Blue/White</td>\n",
              "    </tr>\n",
              "    <tr>\n",
              "      <th>3</th>\n",
              "      <td>NaN</td>\n",
              "      <td>Cat</td>\n",
              "      <td>Intact Male</td>\n",
              "      <td>3 weeks</td>\n",
              "      <td>Domestic Shorthair Mix</td>\n",
              "      <td>Blue Cream</td>\n",
              "    </tr>\n",
              "    <tr>\n",
              "      <th>4</th>\n",
              "      <td>NaN</td>\n",
              "      <td>Dog</td>\n",
              "      <td>Neutered Male</td>\n",
              "      <td>2 years</td>\n",
              "      <td>Lhasa Apso/Miniature Poodle</td>\n",
              "      <td>Tan</td>\n",
              "    </tr>\n",
              "  </tbody>\n",
              "</table>\n",
              "</div>"
            ],
            "text/plain": [
              "      Name AnimalType  ...                        Breed        Color\n",
              "0  Hambone        Dog  ...        Shetland Sheepdog Mix  Brown/White\n",
              "1    Emily        Cat  ...       Domestic Shorthair Mix  Cream Tabby\n",
              "2   Pearce        Dog  ...                 Pit Bull Mix   Blue/White\n",
              "3      NaN        Cat  ...       Domestic Shorthair Mix   Blue Cream\n",
              "4      NaN        Dog  ...  Lhasa Apso/Miniature Poodle          Tan\n",
              "\n",
              "[5 rows x 6 columns]"
            ]
          },
          "metadata": {
            "tags": []
          },
          "execution_count": 16
        }
      ]
    },
    {
      "cell_type": "markdown",
      "metadata": {
        "id": "ZAT3wiZVLmYh",
        "colab_type": "text"
      },
      "source": [
        "#### dropping columns with too many nulls"
      ]
    },
    {
      "cell_type": "code",
      "metadata": {
        "id": "FcCDu0vTLmYi",
        "colab_type": "code",
        "colab": {
          "base_uri": "https://localhost:8080/",
          "height": 35
        },
        "outputId": "5b709abc-1b36-4423-c24e-6841e0f998e1"
      },
      "source": [
        "for col in stacked_df.columns:\n",
        "    if stacked_df[col].isnull().sum() > 10000:\n",
        "        print(\"dropping\", col, stacked_df[col].isnull().sum())\n",
        "        stacked_df = stacked_df.drop(columns = [col])"
      ],
      "execution_count": null,
      "outputs": [
        {
          "output_type": "stream",
          "text": [
            "dropping Name 10916\n"
          ],
          "name": "stdout"
        }
      ]
    },
    {
      "cell_type": "code",
      "metadata": {
        "id": "FFtY0QgrLmYm",
        "colab_type": "code",
        "colab": {
          "base_uri": "https://localhost:8080/",
          "height": 205
        },
        "outputId": "11d90ebe-8390-480c-eade-69e47813e4d1"
      },
      "source": [
        "stacked_df.head()"
      ],
      "execution_count": null,
      "outputs": [
        {
          "output_type": "execute_result",
          "data": {
            "text/html": [
              "<div>\n",
              "<style scoped>\n",
              "    .dataframe tbody tr th:only-of-type {\n",
              "        vertical-align: middle;\n",
              "    }\n",
              "\n",
              "    .dataframe tbody tr th {\n",
              "        vertical-align: top;\n",
              "    }\n",
              "\n",
              "    .dataframe thead th {\n",
              "        text-align: right;\n",
              "    }\n",
              "</style>\n",
              "<table border=\"1\" class=\"dataframe\">\n",
              "  <thead>\n",
              "    <tr style=\"text-align: right;\">\n",
              "      <th></th>\n",
              "      <th>AnimalType</th>\n",
              "      <th>SexuponOutcome</th>\n",
              "      <th>AgeuponOutcome</th>\n",
              "      <th>Breed</th>\n",
              "      <th>Color</th>\n",
              "    </tr>\n",
              "  </thead>\n",
              "  <tbody>\n",
              "    <tr>\n",
              "      <th>0</th>\n",
              "      <td>Dog</td>\n",
              "      <td>Neutered Male</td>\n",
              "      <td>1 year</td>\n",
              "      <td>Shetland Sheepdog Mix</td>\n",
              "      <td>Brown/White</td>\n",
              "    </tr>\n",
              "    <tr>\n",
              "      <th>1</th>\n",
              "      <td>Cat</td>\n",
              "      <td>Spayed Female</td>\n",
              "      <td>1 year</td>\n",
              "      <td>Domestic Shorthair Mix</td>\n",
              "      <td>Cream Tabby</td>\n",
              "    </tr>\n",
              "    <tr>\n",
              "      <th>2</th>\n",
              "      <td>Dog</td>\n",
              "      <td>Neutered Male</td>\n",
              "      <td>2 years</td>\n",
              "      <td>Pit Bull Mix</td>\n",
              "      <td>Blue/White</td>\n",
              "    </tr>\n",
              "    <tr>\n",
              "      <th>3</th>\n",
              "      <td>Cat</td>\n",
              "      <td>Intact Male</td>\n",
              "      <td>3 weeks</td>\n",
              "      <td>Domestic Shorthair Mix</td>\n",
              "      <td>Blue Cream</td>\n",
              "    </tr>\n",
              "    <tr>\n",
              "      <th>4</th>\n",
              "      <td>Dog</td>\n",
              "      <td>Neutered Male</td>\n",
              "      <td>2 years</td>\n",
              "      <td>Lhasa Apso/Miniature Poodle</td>\n",
              "      <td>Tan</td>\n",
              "    </tr>\n",
              "  </tbody>\n",
              "</table>\n",
              "</div>"
            ],
            "text/plain": [
              "  AnimalType SexuponOutcome  ...                        Breed        Color\n",
              "0        Dog  Neutered Male  ...        Shetland Sheepdog Mix  Brown/White\n",
              "1        Cat  Spayed Female  ...       Domestic Shorthair Mix  Cream Tabby\n",
              "2        Dog  Neutered Male  ...                 Pit Bull Mix   Blue/White\n",
              "3        Cat    Intact Male  ...       Domestic Shorthair Mix   Blue Cream\n",
              "4        Dog  Neutered Male  ...  Lhasa Apso/Miniature Poodle          Tan\n",
              "\n",
              "[5 rows x 5 columns]"
            ]
          },
          "metadata": {
            "tags": []
          },
          "execution_count": 18
        }
      ]
    },
    {
      "cell_type": "markdown",
      "metadata": {
        "id": "BlS-Vu_cLmYr",
        "colab_type": "text"
      },
      "source": [
        "#### label encoding"
      ]
    },
    {
      "cell_type": "code",
      "metadata": {
        "id": "VfTB1D5nLmYr",
        "colab_type": "code",
        "colab": {}
      },
      "source": [
        "for col in stacked_df.columns:\n",
        "    if stacked_df.dtypes[col] == \"object\":\n",
        "        stacked_df[col] = stacked_df[col].fillna(\"NA\")\n",
        "    else:\n",
        "        stacked_df[col] = stacked_df[col].fillna(0)\n",
        "    stacked_df[col] = LabelEncoder().fit_transform(stacked_df[col])"
      ],
      "execution_count": null,
      "outputs": []
    },
    {
      "cell_type": "code",
      "metadata": {
        "id": "A6lL8W1HLmYw",
        "colab_type": "code",
        "colab": {
          "base_uri": "https://localhost:8080/",
          "height": 205
        },
        "outputId": "d49c9490-39a7-40b4-9c90-8bd7a8a819db"
      },
      "source": [
        "stacked_df.head()"
      ],
      "execution_count": null,
      "outputs": [
        {
          "output_type": "execute_result",
          "data": {
            "text/html": [
              "<div>\n",
              "<style scoped>\n",
              "    .dataframe tbody tr th:only-of-type {\n",
              "        vertical-align: middle;\n",
              "    }\n",
              "\n",
              "    .dataframe tbody tr th {\n",
              "        vertical-align: top;\n",
              "    }\n",
              "\n",
              "    .dataframe thead th {\n",
              "        text-align: right;\n",
              "    }\n",
              "</style>\n",
              "<table border=\"1\" class=\"dataframe\">\n",
              "  <thead>\n",
              "    <tr style=\"text-align: right;\">\n",
              "      <th></th>\n",
              "      <th>AnimalType</th>\n",
              "      <th>SexuponOutcome</th>\n",
              "      <th>AgeuponOutcome</th>\n",
              "      <th>Breed</th>\n",
              "      <th>Color</th>\n",
              "    </tr>\n",
              "  </thead>\n",
              "  <tbody>\n",
              "    <tr>\n",
              "      <th>0</th>\n",
              "      <td>1</td>\n",
              "      <td>3</td>\n",
              "      <td>5</td>\n",
              "      <td>1482</td>\n",
              "      <td>146</td>\n",
              "    </tr>\n",
              "    <tr>\n",
              "      <th>1</th>\n",
              "      <td>0</td>\n",
              "      <td>4</td>\n",
              "      <td>5</td>\n",
              "      <td>775</td>\n",
              "      <td>184</td>\n",
              "    </tr>\n",
              "    <tr>\n",
              "      <th>2</th>\n",
              "      <td>1</td>\n",
              "      <td>3</td>\n",
              "      <td>21</td>\n",
              "      <td>1293</td>\n",
              "      <td>97</td>\n",
              "    </tr>\n",
              "    <tr>\n",
              "      <th>3</th>\n",
              "      <td>0</td>\n",
              "      <td>1</td>\n",
              "      <td>26</td>\n",
              "      <td>775</td>\n",
              "      <td>47</td>\n",
              "    </tr>\n",
              "    <tr>\n",
              "      <th>4</th>\n",
              "      <td>1</td>\n",
              "      <td>3</td>\n",
              "      <td>21</td>\n",
              "      <td>1101</td>\n",
              "      <td>311</td>\n",
              "    </tr>\n",
              "  </tbody>\n",
              "</table>\n",
              "</div>"
            ],
            "text/plain": [
              "   AnimalType  SexuponOutcome  AgeuponOutcome  Breed  Color\n",
              "0           1               3               5   1482    146\n",
              "1           0               4               5    775    184\n",
              "2           1               3              21   1293     97\n",
              "3           0               1              26    775     47\n",
              "4           1               3              21   1101    311"
            ]
          },
          "metadata": {
            "tags": []
          },
          "execution_count": 20
        }
      ]
    },
    {
      "cell_type": "code",
      "metadata": {
        "id": "xxX0fU11LmY1",
        "colab_type": "code",
        "colab": {}
      },
      "source": [
        "# making all variables categorical\n",
        "for col in stacked_df.columns:\n",
        "    stacked_df[col] = stacked_df[col].astype('category')"
      ],
      "execution_count": null,
      "outputs": []
    },
    {
      "cell_type": "markdown",
      "metadata": {
        "id": "0B9N9eOjLmY5",
        "colab_type": "text"
      },
      "source": [
        "#### splitting back train and test"
      ]
    },
    {
      "cell_type": "code",
      "metadata": {
        "id": "frKX9NrpLmY6",
        "colab_type": "code",
        "colab": {
          "base_uri": "https://localhost:8080/",
          "height": 54
        },
        "outputId": "d1b17c34-26be-47ab-effb-5a03998b622f"
      },
      "source": [
        "X = stacked_df[0:26729]\n",
        "test_processed = stacked_df[26729:]\n",
        "\n",
        "#check if shape[0] matches original\n",
        "print(\"train shape: \", X.shape, \"orignal: \", train.shape)\n",
        "print(\"test shape: \", test_processed.shape, \"original: \", test.shape)"
      ],
      "execution_count": null,
      "outputs": [
        {
          "output_type": "stream",
          "text": [
            "train shape:  (26729, 5) orignal:  (26729, 10)\n",
            "test shape:  (11456, 5) original:  (11456, 8)\n"
          ],
          "name": "stdout"
        }
      ]
    },
    {
      "cell_type": "markdown",
      "metadata": {
        "id": "Nk1Z0yHyLmZA",
        "colab_type": "text"
      },
      "source": [
        "#### Encoding target"
      ]
    },
    {
      "cell_type": "code",
      "metadata": {
        "id": "7OB_uCC5LmZA",
        "colab_type": "code",
        "colab": {
          "base_uri": "https://localhost:8080/",
          "height": 54
        },
        "outputId": "a9f2c6de-dd50-4f17-e454-efaee4df10c0"
      },
      "source": [
        "Y = LabelEncoder().fit_transform(Y)\n",
        "\n",
        "#sanity check to see numbers match and matching with previous counter to create target dictionary\n",
        "print(Counter(train['OutcomeType']))\n",
        "print(Counter(Y))\n",
        "target_dict = {\n",
        "    'Return_to_owner' : 3,\n",
        "    'Euthanasia': 2,\n",
        "    'Adoption': 0,\n",
        "    'Transfer': 4,\n",
        "    'Died': 1\n",
        "}"
      ],
      "execution_count": null,
      "outputs": [
        {
          "output_type": "stream",
          "text": [
            "Counter({'Adoption': 10769, 'Transfer': 9422, 'Return_to_owner': 4786, 'Euthanasia': 1555, 'Died': 197})\n",
            "Counter({0: 10769, 4: 9422, 3: 4786, 2: 1555, 1: 197})\n"
          ],
          "name": "stdout"
        }
      ]
    },
    {
      "cell_type": "markdown",
      "metadata": {
        "id": "vb2_5EKJLmZF",
        "colab_type": "text"
      },
      "source": [
        "#### train-valid split"
      ]
    },
    {
      "cell_type": "code",
      "metadata": {
        "id": "i2MTh4ybLmZH",
        "colab_type": "code",
        "colab": {
          "base_uri": "https://localhost:8080/",
          "height": 205
        },
        "outputId": "8cf238e8-3bef-4063-e009-511c4a9fa403"
      },
      "source": [
        "X_train, X_val, y_train, y_val = train_test_split(X, Y, test_size=0.10, random_state=0)\n",
        "X_train.head()"
      ],
      "execution_count": null,
      "outputs": [
        {
          "output_type": "execute_result",
          "data": {
            "text/html": [
              "<div>\n",
              "<style scoped>\n",
              "    .dataframe tbody tr th:only-of-type {\n",
              "        vertical-align: middle;\n",
              "    }\n",
              "\n",
              "    .dataframe tbody tr th {\n",
              "        vertical-align: top;\n",
              "    }\n",
              "\n",
              "    .dataframe thead th {\n",
              "        text-align: right;\n",
              "    }\n",
              "</style>\n",
              "<table border=\"1\" class=\"dataframe\">\n",
              "  <thead>\n",
              "    <tr style=\"text-align: right;\">\n",
              "      <th></th>\n",
              "      <th>AnimalType</th>\n",
              "      <th>SexuponOutcome</th>\n",
              "      <th>AgeuponOutcome</th>\n",
              "      <th>Breed</th>\n",
              "      <th>Color</th>\n",
              "    </tr>\n",
              "  </thead>\n",
              "  <tbody>\n",
              "    <tr>\n",
              "      <th>6917</th>\n",
              "      <td>1</td>\n",
              "      <td>3</td>\n",
              "      <td>5</td>\n",
              "      <td>1293</td>\n",
              "      <td>146</td>\n",
              "    </tr>\n",
              "    <tr>\n",
              "      <th>13225</th>\n",
              "      <td>0</td>\n",
              "      <td>4</td>\n",
              "      <td>33</td>\n",
              "      <td>1515</td>\n",
              "      <td>231</td>\n",
              "    </tr>\n",
              "    <tr>\n",
              "      <th>2697</th>\n",
              "      <td>1</td>\n",
              "      <td>4</td>\n",
              "      <td>5</td>\n",
              "      <td>1353</td>\n",
              "      <td>43</td>\n",
              "    </tr>\n",
              "    <tr>\n",
              "      <th>21905</th>\n",
              "      <td>1</td>\n",
              "      <td>3</td>\n",
              "      <td>31</td>\n",
              "      <td>245</td>\n",
              "      <td>40</td>\n",
              "    </tr>\n",
              "    <tr>\n",
              "      <th>17071</th>\n",
              "      <td>0</td>\n",
              "      <td>4</td>\n",
              "      <td>37</td>\n",
              "      <td>775</td>\n",
              "      <td>156</td>\n",
              "    </tr>\n",
              "  </tbody>\n",
              "</table>\n",
              "</div>"
            ],
            "text/plain": [
              "      AnimalType SexuponOutcome AgeuponOutcome Breed Color\n",
              "6917           1              3              5  1293   146\n",
              "13225          0              4             33  1515   231\n",
              "2697           1              4              5  1353    43\n",
              "21905          1              3             31   245    40\n",
              "17071          0              4             37   775   156"
            ]
          },
          "metadata": {
            "tags": []
          },
          "execution_count": 24
        }
      ]
    },
    {
      "cell_type": "markdown",
      "metadata": {
        "id": "4dP5r6jZLmZL",
        "colab_type": "text"
      },
      "source": [
        "#### Choosing columns for embedding"
      ]
    },
    {
      "cell_type": "code",
      "metadata": {
        "id": "o1pJBTSPLmZM",
        "colab_type": "code",
        "colab": {
          "base_uri": "https://localhost:8080/",
          "height": 35
        },
        "outputId": "cc976178-24dc-4f16-dc67-5a220173b7e9"
      },
      "source": [
        "#categorical embedding for columns having more than two values\n",
        "embedded_cols = {n: len(col.cat.categories) for n,col in X.items() if len(col.cat.categories) > 2}\n",
        "embedded_cols"
      ],
      "execution_count": null,
      "outputs": [
        {
          "output_type": "execute_result",
          "data": {
            "text/plain": [
              "{'AgeuponOutcome': 46, 'Breed': 1678, 'Color': 411, 'SexuponOutcome': 6}"
            ]
          },
          "metadata": {
            "tags": []
          },
          "execution_count": 25
        }
      ]
    },
    {
      "cell_type": "code",
      "metadata": {
        "id": "omhXE1WxLmZQ",
        "colab_type": "code",
        "colab": {
          "base_uri": "https://localhost:8080/",
          "height": 35
        },
        "outputId": "10b2596f-832a-457c-c5e0-71f841b187c6"
      },
      "source": [
        "embedded_col_names = embedded_cols.keys()\n",
        "len(X.columns) - len(embedded_cols) #number of numerical columns"
      ],
      "execution_count": null,
      "outputs": [
        {
          "output_type": "execute_result",
          "data": {
            "text/plain": [
              "1"
            ]
          },
          "metadata": {
            "tags": []
          },
          "execution_count": 26
        }
      ]
    },
    {
      "cell_type": "markdown",
      "metadata": {
        "id": "i2XF9REQLmZT",
        "colab_type": "text"
      },
      "source": [
        "#### Determining size of embedding \n",
        "(borrowed from https://www.usfca.edu/data-institute/certificates/fundamentals-deep-learning lesson 2)"
      ]
    },
    {
      "cell_type": "code",
      "metadata": {
        "id": "jX_ooRknLmZU",
        "colab_type": "code",
        "colab": {
          "base_uri": "https://localhost:8080/",
          "height": 35
        },
        "outputId": "686edc7e-0769-43c6-b5bd-1c242a38fb73"
      },
      "source": [
        "embedding_sizes = [(n_categories, min(50, (n_categories+1)//2)) for _,n_categories in embedded_cols.items()]\n",
        "embedding_sizes"
      ],
      "execution_count": null,
      "outputs": [
        {
          "output_type": "execute_result",
          "data": {
            "text/plain": [
              "[(6, 3), (46, 23), (1678, 50), (411, 50)]"
            ]
          },
          "metadata": {
            "tags": []
          },
          "execution_count": 27
        }
      ]
    },
    {
      "cell_type": "markdown",
      "metadata": {
        "id": "nRBGbor3LmZY",
        "colab_type": "text"
      },
      "source": [
        "## Pytorch Dataset"
      ]
    },
    {
      "cell_type": "code",
      "metadata": {
        "id": "ZM-UjjFgLmZY",
        "colab_type": "code",
        "colab": {}
      },
      "source": [
        "class ShelterOutcomeDataset(Dataset):\n",
        "    def __init__(self, X, Y, embedded_col_names):\n",
        "        X = X.copy()\n",
        "        self.X1 = X.loc[:,embedded_col_names].copy().values.astype(np.int64) #categorical columns\n",
        "        self.X2 = X.drop(columns=embedded_col_names).copy().values.astype(np.float32) #numerical columns\n",
        "        self.y = Y\n",
        "        \n",
        "    def __len__(self):\n",
        "        return len(self.y)\n",
        "    \n",
        "    def __getitem__(self, idx):\n",
        "        return self.X1[idx], self.X2[idx], self.y[idx]"
      ],
      "execution_count": null,
      "outputs": []
    },
    {
      "cell_type": "code",
      "metadata": {
        "id": "hxYnzlswLmZe",
        "colab_type": "code",
        "colab": {}
      },
      "source": [
        "#creating train and valid datasets\n",
        "train_ds = ShelterOutcomeDataset(X_train, y_train, embedded_col_names)\n",
        "valid_ds = ShelterOutcomeDataset(X_val, y_val, embedded_col_names)"
      ],
      "execution_count": null,
      "outputs": []
    },
    {
      "cell_type": "markdown",
      "metadata": {
        "id": "suWZ2GuALmZi",
        "colab_type": "text"
      },
      "source": [
        "## Making device (GPU/CPU) compatible \n",
        "(borrowed from https://jovian.ml/aakashns/04-feedforward-nn)\n",
        "\n",
        "In order to make use of a GPU if available, we'll have to move our data and model to it."
      ]
    },
    {
      "cell_type": "code",
      "metadata": {
        "id": "VizLw06oLmZj",
        "colab_type": "code",
        "colab": {}
      },
      "source": [
        "def get_default_device():\n",
        "    \"\"\"Pick GPU if available, else CPU\"\"\"\n",
        "    if torch.cuda.is_available():\n",
        "        return torch.device('cuda')\n",
        "    else:\n",
        "        return torch.device('cpu')"
      ],
      "execution_count": null,
      "outputs": []
    },
    {
      "cell_type": "code",
      "metadata": {
        "id": "yfmvZifVLmZm",
        "colab_type": "code",
        "colab": {}
      },
      "source": [
        "def to_device(data, device):\n",
        "    \"\"\"Move tensor(s) to chosen device\"\"\"\n",
        "    if isinstance(data, (list,tuple)):\n",
        "        return [to_device(x, device) for x in data]\n",
        "    return data.to(device, non_blocking=True)"
      ],
      "execution_count": null,
      "outputs": []
    },
    {
      "cell_type": "code",
      "metadata": {
        "id": "6Mgp-FPYLmZq",
        "colab_type": "code",
        "colab": {}
      },
      "source": [
        "class DeviceDataLoader():\n",
        "    \"\"\"Wrap a dataloader to move data to a device\"\"\"\n",
        "    def __init__(self, dl, device):\n",
        "        self.dl = dl\n",
        "        self.device = device\n",
        "        \n",
        "    def __iter__(self):\n",
        "        \"\"\"Yield a batch of data after moving it to device\"\"\"\n",
        "        for b in self.dl: \n",
        "            yield to_device(b, self.device)\n",
        "\n",
        "    def __len__(self):\n",
        "        \"\"\"Number of batches\"\"\"\n",
        "        return len(self.dl)"
      ],
      "execution_count": null,
      "outputs": []
    },
    {
      "cell_type": "code",
      "metadata": {
        "id": "Q841qJofLmZt",
        "colab_type": "code",
        "colab": {
          "base_uri": "https://localhost:8080/",
          "height": 35
        },
        "outputId": "9528bf23-37b4-4923-a9e8-55c526860e7f"
      },
      "source": [
        "device = get_default_device()\n",
        "device"
      ],
      "execution_count": null,
      "outputs": [
        {
          "output_type": "execute_result",
          "data": {
            "text/plain": [
              "device(type='cpu')"
            ]
          },
          "metadata": {
            "tags": []
          },
          "execution_count": 33
        }
      ]
    },
    {
      "cell_type": "markdown",
      "metadata": {
        "id": "3P1HfWo3LmZx",
        "colab_type": "text"
      },
      "source": [
        "## Model\n",
        "\n",
        "(modified from https://www.usfca.edu/data-institute/certificates/fundamentals-deep-learning lesson 2)"
      ]
    },
    {
      "cell_type": "code",
      "metadata": {
        "id": "4rbKhu2XLmZy",
        "colab_type": "code",
        "colab": {}
      },
      "source": [
        "class ShelterOutcomeModel(nn.Module):\n",
        "    def __init__(self, embedding_sizes, n_cont):\n",
        "        super().__init__()\n",
        "        self.embeddings = nn.ModuleList([nn.Embedding(categories, size) for categories,size in embedding_sizes])\n",
        "        n_emb = sum(e.embedding_dim for e in self.embeddings) #length of all embeddings combined\n",
        "        self.n_emb, self.n_cont = n_emb, n_cont\n",
        "        self.lin1 = nn.Linear(self.n_emb + self.n_cont, 200)\n",
        "        self.lin2 = nn.Linear(200, 70)\n",
        "        self.lin3 = nn.Linear(70, 5)\n",
        "        self.bn1 = nn.BatchNorm1d(self.n_cont)\n",
        "        self.bn2 = nn.BatchNorm1d(200)\n",
        "        self.bn3 = nn.BatchNorm1d(70)\n",
        "        self.emb_drop = nn.Dropout(0.6)\n",
        "        self.drops = nn.Dropout(0.3)\n",
        "        \n",
        "\n",
        "    def forward(self, x_cat, x_cont):\n",
        "        x = [e(x_cat[:,i]) for i,e in enumerate(self.embeddings)]\n",
        "        x = torch.cat(x, 1)\n",
        "        x = self.emb_drop(x)\n",
        "        x2 = self.bn1(x_cont)\n",
        "        x = torch.cat([x, x2], 1)\n",
        "        x = F.relu(self.lin1(x))\n",
        "        x = self.drops(x)\n",
        "        x = self.bn2(x)\n",
        "        x = F.relu(self.lin2(x))\n",
        "        x = self.drops(x)\n",
        "        x = self.bn3(x)\n",
        "        x = self.lin3(x)\n",
        "        return x"
      ],
      "execution_count": null,
      "outputs": []
    },
    {
      "cell_type": "code",
      "metadata": {
        "id": "pPUDtO7hLmZ1",
        "colab_type": "code",
        "colab": {
          "base_uri": "https://localhost:8080/",
          "height": 308
        },
        "outputId": "1a61e642-9c60-4bc3-94eb-88b6110e68c4"
      },
      "source": [
        "model = ShelterOutcomeModel(embedding_sizes, 1)\n",
        "to_device(model, device)"
      ],
      "execution_count": null,
      "outputs": [
        {
          "output_type": "execute_result",
          "data": {
            "text/plain": [
              "ShelterOutcomeModel(\n",
              "  (embeddings): ModuleList(\n",
              "    (0): Embedding(6, 3)\n",
              "    (1): Embedding(46, 23)\n",
              "    (2): Embedding(1678, 50)\n",
              "    (3): Embedding(411, 50)\n",
              "  )\n",
              "  (lin1): Linear(in_features=127, out_features=200, bias=True)\n",
              "  (lin2): Linear(in_features=200, out_features=70, bias=True)\n",
              "  (lin3): Linear(in_features=70, out_features=5, bias=True)\n",
              "  (bn1): BatchNorm1d(1, eps=1e-05, momentum=0.1, affine=True, track_running_stats=True)\n",
              "  (bn2): BatchNorm1d(200, eps=1e-05, momentum=0.1, affine=True, track_running_stats=True)\n",
              "  (bn3): BatchNorm1d(70, eps=1e-05, momentum=0.1, affine=True, track_running_stats=True)\n",
              "  (emb_drop): Dropout(p=0.6, inplace=False)\n",
              "  (drops): Dropout(p=0.3, inplace=False)\n",
              ")"
            ]
          },
          "metadata": {
            "tags": []
          },
          "execution_count": 35
        }
      ]
    },
    {
      "cell_type": "markdown",
      "metadata": {
        "id": "ak__xDkSLmZ6",
        "colab_type": "text"
      },
      "source": [
        "#### Optimizer"
      ]
    },
    {
      "cell_type": "code",
      "metadata": {
        "id": "Fdw4Gg5kLmZ7",
        "colab_type": "code",
        "colab": {}
      },
      "source": [
        "def get_optimizer(model, lr = 0.001, wd = 0.0):\n",
        "    parameters = filter(lambda p: p.requires_grad, model.parameters())\n",
        "    optim = torch_optim.Adam(parameters, lr=lr, weight_decay=wd)\n",
        "    return optim"
      ],
      "execution_count": null,
      "outputs": []
    },
    {
      "cell_type": "markdown",
      "metadata": {
        "id": "2BRoJVK8LmZ-",
        "colab_type": "text"
      },
      "source": [
        "#### Training function"
      ]
    },
    {
      "cell_type": "code",
      "metadata": {
        "id": "obThJRGLLmZ_",
        "colab_type": "code",
        "colab": {}
      },
      "source": [
        "def train_model(model, optim, train_dl):\n",
        "    model.train()\n",
        "    total = 0\n",
        "    sum_loss = 0\n",
        "    for x1, x2, y in train_dl:\n",
        "        batch = y.shape[0]\n",
        "        output = model(x1, x2)\n",
        "        loss = F.cross_entropy(output, y)   \n",
        "        optim.zero_grad()\n",
        "        loss.backward()\n",
        "        optim.step()\n",
        "        total += batch\n",
        "        sum_loss += batch*(loss.item())\n",
        "    return sum_loss/total"
      ],
      "execution_count": null,
      "outputs": []
    },
    {
      "cell_type": "markdown",
      "metadata": {
        "id": "1rmbN2yULmaD",
        "colab_type": "text"
      },
      "source": [
        "#### Evaluation function"
      ]
    },
    {
      "cell_type": "code",
      "metadata": {
        "id": "q-IMHiX6LmaD",
        "colab_type": "code",
        "colab": {}
      },
      "source": [
        "def val_loss(model, valid_dl):\n",
        "    model.eval()\n",
        "    total = 0\n",
        "    sum_loss = 0\n",
        "    correct = 0\n",
        "    for x1, x2, y in valid_dl:\n",
        "        current_batch_size = y.shape[0]\n",
        "        out = model(x1, x2)\n",
        "        loss = F.cross_entropy(out, y)\n",
        "        sum_loss += current_batch_size*(loss.item())\n",
        "        total += current_batch_size\n",
        "        pred = torch.max(out, 1)[1]\n",
        "        correct += (pred == y).float().sum().item()\n",
        "    print(\"valid loss %.3f and accuracy %.3f\" % (sum_loss/total, correct/total))\n",
        "    return sum_loss/total, correct/total"
      ],
      "execution_count": null,
      "outputs": []
    },
    {
      "cell_type": "code",
      "metadata": {
        "id": "vGjC28iALmaI",
        "colab_type": "code",
        "colab": {}
      },
      "source": [
        "def train_loop(model, epochs, lr=0.01, wd=0.0):\n",
        "    optim = get_optimizer(model, lr = lr, wd = wd)\n",
        "    for i in range(epochs): \n",
        "        loss = train_model(model, optim, train_dl)\n",
        "        print(\"training loss: \", loss)\n",
        "        val_loss(model, valid_dl)"
      ],
      "execution_count": null,
      "outputs": []
    },
    {
      "cell_type": "markdown",
      "metadata": {
        "id": "zAbWAI3LLmaN",
        "colab_type": "text"
      },
      "source": [
        "## Training "
      ]
    },
    {
      "cell_type": "code",
      "metadata": {
        "id": "m6QoeedvLmaN",
        "colab_type": "code",
        "colab": {}
      },
      "source": [
        "batch_size = 1000\n",
        "train_dl = DataLoader(train_ds, batch_size=batch_size,shuffle=True)\n",
        "valid_dl = DataLoader(valid_ds, batch_size=batch_size,shuffle=True)"
      ],
      "execution_count": null,
      "outputs": []
    },
    {
      "cell_type": "code",
      "metadata": {
        "id": "rAvMk495LmaR",
        "colab_type": "code",
        "colab": {}
      },
      "source": [
        "train_dl = DeviceDataLoader(train_dl, device)\n",
        "valid_dl = DeviceDataLoader(valid_dl, device)"
      ],
      "execution_count": null,
      "outputs": []
    },
    {
      "cell_type": "code",
      "metadata": {
        "id": "X6tZxrBXLmaU",
        "colab_type": "code",
        "colab": {
          "base_uri": "https://localhost:8080/",
          "height": 308
        },
        "outputId": "7a96406e-5516-4f24-8339-ede9d8ee719b"
      },
      "source": [
        "train_loop(model, epochs=8, lr=0.05, wd=0.00001)"
      ],
      "execution_count": null,
      "outputs": [
        {
          "output_type": "stream",
          "text": [
            "training loss:  1.23645598742904\n",
            "valid loss 0.960 and accuracy 0.604\n",
            "training loss:  1.0135881132884481\n",
            "valid loss 0.953 and accuracy 0.603\n",
            "training loss:  0.9957453416041611\n",
            "valid loss 0.882 and accuracy 0.633\n",
            "training loss:  0.9612488248517119\n",
            "valid loss 0.883 and accuracy 0.631\n",
            "training loss:  0.95715885815289\n",
            "valid loss 0.877 and accuracy 0.640\n",
            "training loss:  0.9451313052297947\n",
            "valid loss 0.875 and accuracy 0.634\n",
            "training loss:  0.9463126289713688\n",
            "valid loss 0.877 and accuracy 0.634\n",
            "training loss:  0.9450647421837804\n",
            "valid loss 0.866 and accuracy 0.635\n"
          ],
          "name": "stdout"
        }
      ]
    },
    {
      "cell_type": "markdown",
      "metadata": {
        "id": "Umb8B8fULmaY",
        "colab_type": "text"
      },
      "source": [
        "## Test Output"
      ]
    },
    {
      "cell_type": "code",
      "metadata": {
        "id": "Q_CRbFrbLmaZ",
        "colab_type": "code",
        "colab": {}
      },
      "source": [
        "test_ds = ShelterOutcomeDataset(test_processed, np.zeros(len(test_processed)), embedded_col_names)\n",
        "test_dl = DataLoader(test_ds, batch_size=batch_size)"
      ],
      "execution_count": null,
      "outputs": []
    },
    {
      "cell_type": "code",
      "metadata": {
        "id": "nNrEIADQLmae",
        "colab_type": "code",
        "colab": {}
      },
      "source": [
        "preds = []\n",
        "with torch.no_grad():\n",
        "    for x1,x2,y in test_dl:\n",
        "        out = model(x1, x2)\n",
        "        prob = F.softmax(out, dim=1)\n",
        "        preds.append(prob)"
      ],
      "execution_count": null,
      "outputs": []
    },
    {
      "cell_type": "code",
      "metadata": {
        "id": "1-PQVCcKLmai",
        "colab_type": "code",
        "colab": {}
      },
      "source": [
        "final_probs = [item for sublist in preds for item in sublist]"
      ],
      "execution_count": null,
      "outputs": []
    },
    {
      "cell_type": "code",
      "metadata": {
        "id": "4tE7XX03Lmao",
        "colab_type": "code",
        "colab": {
          "base_uri": "https://localhost:8080/",
          "height": 35
        },
        "outputId": "d609f54f-c219-471a-a365-2bd2c5f138cb"
      },
      "source": [
        "len(final_probs)"
      ],
      "execution_count": null,
      "outputs": [
        {
          "output_type": "execute_result",
          "data": {
            "text/plain": [
              "11456"
            ]
          },
          "metadata": {
            "tags": []
          },
          "execution_count": 46
        }
      ]
    },
    {
      "cell_type": "code",
      "metadata": {
        "id": "fibEesduLmas",
        "colab_type": "code",
        "colab": {
          "base_uri": "https://localhost:8080/",
          "height": 108
        },
        "outputId": "0b5fda28-14cb-4896-b96f-a6325b2fec6b"
      },
      "source": [
        "target_dict"
      ],
      "execution_count": null,
      "outputs": [
        {
          "output_type": "execute_result",
          "data": {
            "text/plain": [
              "{'Adoption': 0,\n",
              " 'Died': 1,\n",
              " 'Euthanasia': 2,\n",
              " 'Return_to_owner': 3,\n",
              " 'Transfer': 4}"
            ]
          },
          "metadata": {
            "tags": []
          },
          "execution_count": 47
        }
      ]
    },
    {
      "cell_type": "code",
      "metadata": {
        "id": "cpXpPtCnLmaz",
        "colab_type": "code",
        "colab": {
          "base_uri": "https://localhost:8080/",
          "height": 205
        },
        "outputId": "ca0b1696-523e-43e9-f174-a4b08ff7f1e5"
      },
      "source": [
        "sample.head()"
      ],
      "execution_count": null,
      "outputs": [
        {
          "output_type": "execute_result",
          "data": {
            "text/html": [
              "<div>\n",
              "<style scoped>\n",
              "    .dataframe tbody tr th:only-of-type {\n",
              "        vertical-align: middle;\n",
              "    }\n",
              "\n",
              "    .dataframe tbody tr th {\n",
              "        vertical-align: top;\n",
              "    }\n",
              "\n",
              "    .dataframe thead th {\n",
              "        text-align: right;\n",
              "    }\n",
              "</style>\n",
              "<table border=\"1\" class=\"dataframe\">\n",
              "  <thead>\n",
              "    <tr style=\"text-align: right;\">\n",
              "      <th></th>\n",
              "      <th>ID</th>\n",
              "      <th>Adoption</th>\n",
              "      <th>Died</th>\n",
              "      <th>Euthanasia</th>\n",
              "      <th>Return_to_owner</th>\n",
              "      <th>Transfer</th>\n",
              "    </tr>\n",
              "  </thead>\n",
              "  <tbody>\n",
              "    <tr>\n",
              "      <th>0</th>\n",
              "      <td>1</td>\n",
              "      <td>1</td>\n",
              "      <td>0</td>\n",
              "      <td>0</td>\n",
              "      <td>0</td>\n",
              "      <td>0</td>\n",
              "    </tr>\n",
              "    <tr>\n",
              "      <th>1</th>\n",
              "      <td>2</td>\n",
              "      <td>1</td>\n",
              "      <td>0</td>\n",
              "      <td>0</td>\n",
              "      <td>0</td>\n",
              "      <td>0</td>\n",
              "    </tr>\n",
              "    <tr>\n",
              "      <th>2</th>\n",
              "      <td>3</td>\n",
              "      <td>1</td>\n",
              "      <td>0</td>\n",
              "      <td>0</td>\n",
              "      <td>0</td>\n",
              "      <td>0</td>\n",
              "    </tr>\n",
              "    <tr>\n",
              "      <th>3</th>\n",
              "      <td>4</td>\n",
              "      <td>1</td>\n",
              "      <td>0</td>\n",
              "      <td>0</td>\n",
              "      <td>0</td>\n",
              "      <td>0</td>\n",
              "    </tr>\n",
              "    <tr>\n",
              "      <th>4</th>\n",
              "      <td>5</td>\n",
              "      <td>1</td>\n",
              "      <td>0</td>\n",
              "      <td>0</td>\n",
              "      <td>0</td>\n",
              "      <td>0</td>\n",
              "    </tr>\n",
              "  </tbody>\n",
              "</table>\n",
              "</div>"
            ],
            "text/plain": [
              "   ID  Adoption  Died  Euthanasia  Return_to_owner  Transfer\n",
              "0   1         1     0           0                0         0\n",
              "1   2         1     0           0                0         0\n",
              "2   3         1     0           0                0         0\n",
              "3   4         1     0           0                0         0\n",
              "4   5         1     0           0                0         0"
            ]
          },
          "metadata": {
            "tags": []
          },
          "execution_count": 48
        }
      ]
    },
    {
      "cell_type": "code",
      "metadata": {
        "id": "QyEeelsyLma3",
        "colab_type": "code",
        "colab": {
          "base_uri": "https://localhost:8080/",
          "height": 205
        },
        "outputId": "00fcdd0a-d57a-4878-fbbd-0682152a5b75"
      },
      "source": [
        "sample['Adoption'] = [float(t[0]) for t in final_probs]\n",
        "sample['Died'] = [float(t[1]) for t in final_probs]\n",
        "sample['Euthanasia'] = [float(t[2]) for t in final_probs]\n",
        "sample['Return_to_owner'] = [float(t[3]) for t in final_probs]\n",
        "sample['Transfer'] = [float(t[4]) for t in final_probs]\n",
        "sample.head()"
      ],
      "execution_count": null,
      "outputs": [
        {
          "output_type": "execute_result",
          "data": {
            "text/html": [
              "<div>\n",
              "<style scoped>\n",
              "    .dataframe tbody tr th:only-of-type {\n",
              "        vertical-align: middle;\n",
              "    }\n",
              "\n",
              "    .dataframe tbody tr th {\n",
              "        vertical-align: top;\n",
              "    }\n",
              "\n",
              "    .dataframe thead th {\n",
              "        text-align: right;\n",
              "    }\n",
              "</style>\n",
              "<table border=\"1\" class=\"dataframe\">\n",
              "  <thead>\n",
              "    <tr style=\"text-align: right;\">\n",
              "      <th></th>\n",
              "      <th>ID</th>\n",
              "      <th>Adoption</th>\n",
              "      <th>Died</th>\n",
              "      <th>Euthanasia</th>\n",
              "      <th>Return_to_owner</th>\n",
              "      <th>Transfer</th>\n",
              "    </tr>\n",
              "  </thead>\n",
              "  <tbody>\n",
              "    <tr>\n",
              "      <th>0</th>\n",
              "      <td>1</td>\n",
              "      <td>0.100872</td>\n",
              "      <td>0.004188</td>\n",
              "      <td>0.071260</td>\n",
              "      <td>0.183928</td>\n",
              "      <td>0.639751</td>\n",
              "    </tr>\n",
              "    <tr>\n",
              "      <th>1</th>\n",
              "      <td>2</td>\n",
              "      <td>0.524133</td>\n",
              "      <td>0.001504</td>\n",
              "      <td>0.021052</td>\n",
              "      <td>0.288700</td>\n",
              "      <td>0.164610</td>\n",
              "    </tr>\n",
              "    <tr>\n",
              "      <th>2</th>\n",
              "      <td>3</td>\n",
              "      <td>0.541326</td>\n",
              "      <td>0.002692</td>\n",
              "      <td>0.026802</td>\n",
              "      <td>0.103425</td>\n",
              "      <td>0.325755</td>\n",
              "    </tr>\n",
              "    <tr>\n",
              "      <th>3</th>\n",
              "      <td>4</td>\n",
              "      <td>0.065527</td>\n",
              "      <td>0.004611</td>\n",
              "      <td>0.053677</td>\n",
              "      <td>0.072495</td>\n",
              "      <td>0.803690</td>\n",
              "    </tr>\n",
              "    <tr>\n",
              "      <th>4</th>\n",
              "      <td>5</td>\n",
              "      <td>0.586185</td>\n",
              "      <td>0.001023</td>\n",
              "      <td>0.011810</td>\n",
              "      <td>0.216782</td>\n",
              "      <td>0.184200</td>\n",
              "    </tr>\n",
              "  </tbody>\n",
              "</table>\n",
              "</div>"
            ],
            "text/plain": [
              "   ID  Adoption      Died  Euthanasia  Return_to_owner  Transfer\n",
              "0   1  0.100872  0.004188    0.071260         0.183928  0.639751\n",
              "1   2  0.524133  0.001504    0.021052         0.288700  0.164610\n",
              "2   3  0.541326  0.002692    0.026802         0.103425  0.325755\n",
              "3   4  0.065527  0.004611    0.053677         0.072495  0.803690\n",
              "4   5  0.586185  0.001023    0.011810         0.216782  0.184200"
            ]
          },
          "metadata": {
            "tags": []
          },
          "execution_count": 49
        }
      ]
    },
    {
      "cell_type": "code",
      "metadata": {
        "id": "wimvnB8zLma7",
        "colab_type": "code",
        "colab": {}
      },
      "source": [
        "sample.to_csv('samp.csv', index=False)"
      ],
      "execution_count": null,
      "outputs": []
    }
  ]
}